{
 "cells": [
  {
   "cell_type": "code",
   "execution_count": 40,
   "metadata": {},
   "outputs": [],
   "source": [
    "from selenium import webdriver\n",
    "from selenium.webdriver.chrome.options import Options\n",
    "from selenium.webdriver.chrome.service import Service\n",
    "from selenium.webdriver.support import expected_conditions as EC\n",
    "from selenium.webdriver.support.ui import WebDriverWait\n",
    "from selenium.webdriver.common.by import By\n",
    "from fake_useragent import UserAgent\n",
    "import random\n",
    "import select\n",
    "#import string\n",
    "import time"
   ]
  },
  {
   "cell_type": "code",
   "execution_count": 41,
   "metadata": {},
   "outputs": [],
   "source": [
    "options = Options() \n",
    "\n",
    "ua = UserAgent()\n",
    "userAgent = ua.random\n",
    "\n",
    "options.add_argument(f'user-agent={userAgent}')\n",
    "options.add_argument('--headless')  # 非本機執行，必須啟動Headless模式\n",
    "options.add_argument('--disable-gpu') # 關閉GPU 避免某些系統或是網頁出錯\n",
    "\n",
    "service = Service()\n",
    "driver = webdriver.Chrome(service=service, options=options)\n",
    "url = 'http://120.105.96.87/register_all.html'\n",
    "driver.get(url)"
   ]
  },
  {
   "cell_type": "code",
   "execution_count": 43,
   "metadata": {},
   "outputs": [
    {
     "ename": "NoSuchElementException",
     "evalue": "Message: no such element: Unable to locate element: {\"method\":\"css selector\",\"selector\":\"[name=\"country\"]\"}\n  (Session info: headless chrome=113.0.5672.126)\nStacktrace:\n#0 0x558e40b71133 <unknown>\n#1 0x558e408a5966 <unknown>\n#2 0x558e408e20dc <unknown>\n#3 0x558e408e2211 <unknown>\n#4 0x558e4091c6c4 <unknown>\n#5 0x558e40901bfd <unknown>\n#6 0x558e4091a1c7 <unknown>\n#7 0x558e409019a3 <unknown>\n#8 0x558e408d646a <unknown>\n#9 0x558e408d755e <unknown>\n#10 0x558e40b30cae <unknown>\n#11 0x558e40b348fe <unknown>\n#12 0x558e40b3df20 <unknown>\n#13 0x558e40b35923 <unknown>\n#14 0x558e40b08c0e <unknown>\n#15 0x558e40b58b08 <unknown>\n#16 0x558e40b58c97 <unknown>\n#17 0x558e40b69113 <unknown>\n#18 0x7f15fe694b43 <unknown>\n",
     "output_type": "error",
     "traceback": [
      "\u001b[0;31m---------------------------------------------------------------------------\u001b[0m",
      "\u001b[0;31mNoSuchElementException\u001b[0m                    Traceback (most recent call last)",
      "Cell \u001b[0;32mIn[43], line 25\u001b[0m\n\u001b[1;32m     22\u001b[0m myinterest\u001b[39m=\u001b[39mdriver\u001b[39m.\u001b[39mfind_element(By\u001b[39m.\u001b[39mID,\u001b[39m\"\u001b[39m\u001b[39mbike\u001b[39m\u001b[39m\"\u001b[39m)\n\u001b[1;32m     23\u001b[0m myinterest\u001b[39m.\u001b[39mclick()\n\u001b[0;32m---> 25\u001b[0m country_id \u001b[39m=\u001b[39mselect(driver\u001b[39m.\u001b[39;49mfind_element(By\u001b[39m.\u001b[39;49mNAME, \u001b[39m'\u001b[39;49m\u001b[39mcountry\u001b[39;49m\u001b[39m'\u001b[39;49m))\n\u001b[1;32m     26\u001b[0m country_id\u001b[39m.\u001b[39mselect_by_value(\u001b[39m\"\u001b[39m\u001b[39mtaoyuan\u001b[39m\u001b[39m\"\u001b[39m)\n\u001b[1;32m     28\u001b[0m driver\u001b[39m.\u001b[39mget_screenshot_as_file(\u001b[39m'\u001b[39m\u001b[39m5sex.png\u001b[39m\u001b[39m'\u001b[39m)\n",
      "File \u001b[0;32m~/.local/share/virtualenvs/selenium-strGPMzh/lib/python3.10/site-packages/selenium/webdriver/remote/webdriver.py:831\u001b[0m, in \u001b[0;36mWebDriver.find_element\u001b[0;34m(self, by, value)\u001b[0m\n\u001b[1;32m    828\u001b[0m     by \u001b[39m=\u001b[39m By\u001b[39m.\u001b[39mCSS_SELECTOR\n\u001b[1;32m    829\u001b[0m     value \u001b[39m=\u001b[39m \u001b[39mf\u001b[39m\u001b[39m'\u001b[39m\u001b[39m[name=\u001b[39m\u001b[39m\"\u001b[39m\u001b[39m{\u001b[39;00mvalue\u001b[39m}\u001b[39;00m\u001b[39m\"\u001b[39m\u001b[39m]\u001b[39m\u001b[39m'\u001b[39m\n\u001b[0;32m--> 831\u001b[0m \u001b[39mreturn\u001b[39;00m \u001b[39mself\u001b[39;49m\u001b[39m.\u001b[39;49mexecute(Command\u001b[39m.\u001b[39;49mFIND_ELEMENT, {\u001b[39m\"\u001b[39;49m\u001b[39musing\u001b[39;49m\u001b[39m\"\u001b[39;49m: by, \u001b[39m\"\u001b[39;49m\u001b[39mvalue\u001b[39;49m\u001b[39m\"\u001b[39;49m: value})[\u001b[39m\"\u001b[39m\u001b[39mvalue\u001b[39m\u001b[39m\"\u001b[39m]\n",
      "File \u001b[0;32m~/.local/share/virtualenvs/selenium-strGPMzh/lib/python3.10/site-packages/selenium/webdriver/remote/webdriver.py:440\u001b[0m, in \u001b[0;36mWebDriver.execute\u001b[0;34m(self, driver_command, params)\u001b[0m\n\u001b[1;32m    438\u001b[0m response \u001b[39m=\u001b[39m \u001b[39mself\u001b[39m\u001b[39m.\u001b[39mcommand_executor\u001b[39m.\u001b[39mexecute(driver_command, params)\n\u001b[1;32m    439\u001b[0m \u001b[39mif\u001b[39;00m response:\n\u001b[0;32m--> 440\u001b[0m     \u001b[39mself\u001b[39;49m\u001b[39m.\u001b[39;49merror_handler\u001b[39m.\u001b[39;49mcheck_response(response)\n\u001b[1;32m    441\u001b[0m     response[\u001b[39m\"\u001b[39m\u001b[39mvalue\u001b[39m\u001b[39m\"\u001b[39m] \u001b[39m=\u001b[39m \u001b[39mself\u001b[39m\u001b[39m.\u001b[39m_unwrap_value(response\u001b[39m.\u001b[39mget(\u001b[39m\"\u001b[39m\u001b[39mvalue\u001b[39m\u001b[39m\"\u001b[39m, \u001b[39mNone\u001b[39;00m))\n\u001b[1;32m    442\u001b[0m     \u001b[39mreturn\u001b[39;00m response\n",
      "File \u001b[0;32m~/.local/share/virtualenvs/selenium-strGPMzh/lib/python3.10/site-packages/selenium/webdriver/remote/errorhandler.py:245\u001b[0m, in \u001b[0;36mErrorHandler.check_response\u001b[0;34m(self, response)\u001b[0m\n\u001b[1;32m    243\u001b[0m         alert_text \u001b[39m=\u001b[39m value[\u001b[39m\"\u001b[39m\u001b[39malert\u001b[39m\u001b[39m\"\u001b[39m]\u001b[39m.\u001b[39mget(\u001b[39m\"\u001b[39m\u001b[39mtext\u001b[39m\u001b[39m\"\u001b[39m)\n\u001b[1;32m    244\u001b[0m     \u001b[39mraise\u001b[39;00m exception_class(message, screen, stacktrace, alert_text)  \u001b[39m# type: ignore[call-arg]  # mypy is not smart enough here\u001b[39;00m\n\u001b[0;32m--> 245\u001b[0m \u001b[39mraise\u001b[39;00m exception_class(message, screen, stacktrace)\n",
      "\u001b[0;31mNoSuchElementException\u001b[0m: Message: no such element: Unable to locate element: {\"method\":\"css selector\",\"selector\":\"[name=\"country\"]\"}\n  (Session info: headless chrome=113.0.5672.126)\nStacktrace:\n#0 0x558e40b71133 <unknown>\n#1 0x558e408a5966 <unknown>\n#2 0x558e408e20dc <unknown>\n#3 0x558e408e2211 <unknown>\n#4 0x558e4091c6c4 <unknown>\n#5 0x558e40901bfd <unknown>\n#6 0x558e4091a1c7 <unknown>\n#7 0x558e409019a3 <unknown>\n#8 0x558e408d646a <unknown>\n#9 0x558e408d755e <unknown>\n#10 0x558e40b30cae <unknown>\n#11 0x558e40b348fe <unknown>\n#12 0x558e40b3df20 <unknown>\n#13 0x558e40b35923 <unknown>\n#14 0x558e40b08c0e <unknown>\n#15 0x558e40b58b08 <unknown>\n#16 0x558e40b58c97 <unknown>\n#17 0x558e40b69113 <unknown>\n#18 0x7f15fe694b43 <unknown>\n"
     ]
    }
   ],
   "source": [
    "\n",
    "\n",
    "\n",
    "\n",
    "\n",
    "\n",
    "myid = driver.find_element(By.NAME, \"id\")\n",
    "myid.clear()\n",
    "myid.send_keys(\"B09090016\") # 請輸入你的學號\n",
    "\n",
    "myemail = driver.find_element(By.NAME, \"email\")\n",
    "myemail.clear()\n",
    "myemail.send_keys(\"qwe1120365@gmail.com\") # 請輸入你的email\n",
    "\n",
    "passwd = driver.find_element(By.NAME, \"pwd\")\n",
    "passwd.clear()\n",
    "passwd.send_keys(\"a0981570113\")  # 請輸入你要設定的登入密碼\n",
    "\n",
    "usergender = driver.find_element(By.XPATH, \".//input[@value='m']\")\n",
    "# 選完後要按下去\n",
    "usergender.click()\n",
    "\n",
    "myinterest=driver.find_element(By.ID,\"movie\")\n",
    "myinterest.click()#先執行一次取消勾勾\n",
    "myinterest=driver.find_element(By.ID,\"bike\")\n",
    "myinterest.click()\n",
    "\n",
    "country_id =select(driver.find_element(By.NAME, 'country'))\n",
    "country_id.select_by_value(\"taoyuan\")\n",
    "\n",
    "driver.get_screenshot_as_file('5sex.png')"
   ]
  }
 ],
 "metadata": {
  "kernelspec": {
   "display_name": "selenium-strGPMzh",
   "language": "python",
   "name": "python3"
  },
  "language_info": {
   "codemirror_mode": {
    "name": "ipython",
    "version": 3
   },
   "file_extension": ".py",
   "mimetype": "text/x-python",
   "name": "python",
   "nbconvert_exporter": "python",
   "pygments_lexer": "ipython3",
   "version": "3.10.6"
  },
  "orig_nbformat": 4
 },
 "nbformat": 4,
 "nbformat_minor": 2
}
